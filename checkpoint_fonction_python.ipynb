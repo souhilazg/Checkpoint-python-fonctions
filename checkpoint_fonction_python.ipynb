{
 "cells": [
  {
   "cell_type": "markdown",
   "id": "7481f5d9",
   "metadata": {},
   "source": [
    "# 🧮 Checkpoint Python – Créer une Calculatrice Interactive\n",
    "\n",
    "L’objectif de cet exercice est de construire une **fonction Python** nommée `calculatrice` permettant à un utilisateur d’effectuer des opérations arithmétiques de base. L’utilisateur saisit deux **nombres** et choisit une **opération** parmi `+`, `-`, `*`, `/`. Le programme applique l’opération à ces deux valeurs et renvoie le **résultat** correspondant.\n",
    "\n",
    "---\n",
    "\n",
    "## ✏️ Instructions\n",
    "\n",
    "- Crée un fichier Python dans ton éditeur préféré.\n",
    "- Définis une fonction appelée `calculatrice(num1, num2)` :\n",
    "  - À l’intérieur de cette fonction, demande à l’utilisateur de saisir un **opérateur** (`+`, `-`, `*`, `/`) via `input()`.\n",
    "  - Utilise des **conditionnelles** (`if`, `elif`, `else`) pour relier l’opérateur choisi à l’opération souhaitée.\n",
    "  - Retourne le résultat de l’opération.\n",
    "  - Gère le cas de **division par zéro** en affichant un message d’erreur approprié.\n",
    "  - Gère le cas où l’utilisateur entre un **opérateur invalide**.\n",
    "- En dehors de la fonction :\n",
    "  - Demande à l’utilisateur deux nombres.\n",
    "  - Appelle la fonction avec ces deux valeurs et affiche le **résultat** à l’écran.\n",
    "- Bonus :\n",
    "  - Ajoute une boucle `while` pour permettre plusieurs calculs.\n",
    "  - Améliore l’expérience utilisateur avec des messages clairs et personnalisés.\n",
    "\n",
    "\n"
   ]
  },
  {
   "cell_type": "code",
   "execution_count": 41,
   "id": "c5412c49",
   "metadata": {},
   "outputs": [],
   "source": [
    "def calculator(num1,num2):\n",
    "\n",
    "    while True:\n",
    "        opération = input(\"entrer un opérateur (+, -, *, /)\")\n",
    "\n",
    "        if opération == \"+\":\n",
    "            return num1 + num2\n",
    "        elif opération ==\"-\":\n",
    "            return num1 - num2\n",
    "        elif opération==\"*\":\n",
    "            return num1 * num2\n",
    "        elif opération==\"/\":\n",
    "            if num2 != 0:\n",
    "                return num1 / num2\n",
    "            else:\n",
    "                return \"erreur ne peut pas étre divisé par 0\"\n",
    "        else:\n",
    "            print(\"entrer un opérateur valide\")"
   ]
  },
  {
   "cell_type": "code",
   "execution_count": 42,
   "id": "867fa4a1",
   "metadata": {},
   "outputs": [
    {
     "name": "stdout",
     "output_type": "stream",
     "text": [
      "entrer un opérateur valide\n",
      "entrer un opérateur valide\n",
      "entrer un opérateur valide\n",
      "entrer un opérateur valide\n",
      "entrer un opérateur valide\n",
      "entrer un opérateur valide\n"
     ]
    },
    {
     "data": {
      "text/plain": [
       "2"
      ]
     },
     "execution_count": 42,
     "metadata": {},
     "output_type": "execute_result"
    }
   ],
   "source": [
    "calculator(2,0)"
   ]
  }
 ],
 "metadata": {
  "kernelspec": {
   "display_name": "Python 3",
   "language": "python",
   "name": "python3"
  },
  "language_info": {
   "codemirror_mode": {
    "name": "ipython",
    "version": 3
   },
   "file_extension": ".py",
   "mimetype": "text/x-python",
   "name": "python",
   "nbconvert_exporter": "python",
   "pygments_lexer": "ipython3",
   "version": "3.11.9"
  }
 },
 "nbformat": 4,
 "nbformat_minor": 5
}
